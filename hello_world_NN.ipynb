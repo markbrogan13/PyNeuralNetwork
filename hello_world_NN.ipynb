{
 "cells": [
  {
   "cell_type": "markdown",
   "metadata": {},
   "source": [
    "# Hello World Neural Network\n",
    "\n",
    "Following a tutorial on building a Neral Network from scratch by: sentdex on YouTube"
   ]
  },
  {
   "cell_type": "markdown",
   "metadata": {},
   "source": [
    "1. Following the first video on YT on the process, adding in my own changes for better and cleaner code"
   ]
  },
  {
   "cell_type": "code",
   "execution_count": 7,
   "metadata": {},
   "outputs": [
    {
     "name": "stdout",
     "output_type": "stream",
     "text": [
      "[4.8, 1.21, 2.385]\n"
     ]
    }
   ],
   "source": [
    "import sys\n",
    "import numpy as np\n",
    "import matplotlib as plt\n",
    "\n",
    "import settings as vals\n",
    "\n",
    "inputs = np.array(vals.INPUTS)\n",
    "weights = [np.array(vals.WEIGHTS), np.array(vals.WEIGHTS_2), np.array(vals.WEIGHTS_3)]\n",
    "\n",
    "biases = [vals.BIAS, vals.BIAS_2, vals.BIAS_3]\n",
    "\n",
    "\"\"\"\n",
    "    The Summantion of all inputs multiplied by all weights, then add the BIAS\n",
    "\"\"\"\n",
    "# output = [np.sum(inputs[0] * weights[0]) + bias[0], np.sum(inputs * weights[1]) + bias[1], np.sum(inputs * weights[2]) + bias[2]]\n",
    "\n",
    "layer_outputs = []\n",
    "for neuron_weights, neuron_bias in zip(weights, biases):\n",
    "    neron_output = 0\n",
    "    for n_input, weight in zip(inputs, neuron_weights):\n",
    "        neron_output += n_input * weight\n",
    "    neron_output += neuron_bias\n",
    "    layer_outputs.append(neron_output)\n",
    "\n",
    "print(layer_outputs)"
   ]
  },
  {
   "cell_type": "code",
   "execution_count": 4,
   "metadata": {},
   "outputs": [
    {
     "name": "stdout",
     "output_type": "stream",
     "text": [
      "[[ 0.5031  -1.04185 -2.03875]\n",
      " [ 0.2434  -2.7332  -5.7633 ]\n",
      " [-0.99314  1.41254 -0.35655]]\n"
     ]
    }
   ],
   "source": [
    "\"\"\"\n",
    "    With Dot products and layers\n",
    "\"\"\"\n",
    "import numpy as np\n",
    "import settings as vals\n",
    "\n",
    "inputs = [np.array(vals.INPUTS), np.array(vals.INPUTS_2), np.array(vals.INPUTS_3)]\n",
    "weights = [np.array(vals.WEIGHTS), np.array(vals.WEIGHTS_2), np.array(vals.WEIGHTS_3)]\n",
    "biases = [vals.BIAS, vals.BIAS_2, vals.BIAS_3]\n",
    "\n",
    "weights2 = [[0.1, -0.14, 0.5],\n",
    "            [-0.5, 0.12, -0.33],\n",
    "            [-0.44, 0.73, -0.13]]\n",
    "\n",
    "biases2 = [-1, 2, -0.5]\n",
    "\n",
    "layer1_output = np.dot(inputs, np.array(weights).T) + biases\n",
    "layer2_output = np.dot(layer1_output, np.array(weights2).T) + biases2\n",
    "\n",
    "print(layer2_output)"
   ]
  },
  {
   "cell_type": "code",
   "execution_count": 7,
   "metadata": {},
   "outputs": [
    {
     "name": "stdout",
     "output_type": "stream",
     "text": [
      "[[ 0.10758131  1.03983522  0.24462411  0.31821498  0.18851053]\n",
      " [-0.08349796  0.70846411  0.00293357  0.44701525  0.36360538]\n",
      " [-0.50763245  0.55688422  0.07987797 -0.34889573  0.04553042]]\n",
      "[[ 0.148296   -0.08397602]\n",
      " [ 0.14100315 -0.01340469]\n",
      " [ 0.20124979 -0.07290616]]\n"
     ]
    }
   ],
   "source": [
    "\"\"\"\n",
    "    Now with OOP and Dot Product to combine Layers\n",
    "\"\"\"\n",
    "\n",
    "import numpy as np\n",
    "import settings as vals\n",
    "\n",
    "np.random.seed(0)\n",
    "\n",
    "# Using X as a symbols as the training data/data\n",
    "X = [np.array(vals.INPUTS), np.array(vals.INPUTS_2), np.array(vals.INPUTS_3)]\n",
    "\n",
    "\n",
    "class Layer_Dense:\n",
    "    def __init__(self, n_inputs, n_neurons):\n",
    "        self.weights = 0.10 * np.random.randn(n_inputs, n_neurons)\n",
    "        self.biases = np.zeros((1, n_neurons))\n",
    "    def forward(self, inputs):\n",
    "        self.output = np.dot(inputs, self.weights) + self.biases\n",
    "\n",
    "layer1 = Layer_Dense(4, 5)\n",
    "layer2 = Layer_Dense(5, 2)\n",
    "\n",
    "layer1.forward(X)\n",
    "print(layer1.output)\n",
    "layer2.forward(layer1.output)\n",
    "print(layer2.output)\n"
   ]
  },
  {
   "cell_type": "code",
   "execution_count": 9,
   "metadata": {},
   "outputs": [
    {
     "name": "stdout",
     "output_type": "stream",
     "text": [
      "[0, 2, 0, 3.3, 0, 1.1, 2.2, 0]\n"
     ]
    }
   ],
   "source": [
    "\"\"\"\n",
    "    Rectified Linear Approach\n",
    "\"\"\"\n",
    "\n",
    "import numpy as np\n",
    "import settings as vals\n",
    "\n",
    "np.random.seed(0)\n",
    "\n",
    "inputs = [0, 2, -1, 3.3, -2.7, 1.1, 2.2, -100]\n",
    "output = []\n",
    "\n",
    "for i in inputs:\n",
    "    output.append(max(0, i))\n",
    "\n",
    "print(output)"
   ]
  },
  {
   "cell_type": "code",
   "execution_count": null,
   "metadata": {},
   "outputs": [],
   "source": [
    "import numpy as np\n",
    "import settings as vals\n",
    "\n",
    "np.random.seed(0)\n",
    "\n",
    "# Using X as a symbols as the training data/data\n",
    "X = [np.array(vals.INPUTS), np.array(vals.INPUTS_2), np.array(vals.INPUTS_3)]\n",
    "\n",
    "\n",
    "class Layer_Dense:\n",
    "    def __init__(self, n_inputs, n_neurons):\n",
    "        self.weights = 0.10 * np.random.randn(n_inputs, n_neurons)\n",
    "        self.biases = np.zeros((1, n_neurons))\n",
    "    def forward(self, inputs):\n",
    "        self.output = np.dot(inputs, self.weights) + self.biases\n",
    "\n",
    "class Activation_ReLU:\n",
    "    def forward(self, inputs):\n",
    "        self.output = np.maximum(0, inputs)\n",
    "\n",
    "layer1 = Layer_Dense(4, 5)\n",
    "layer2 = Layer_Dense(5, 2)\n",
    "\n",
    "layer1.forward(X)\n",
    "print(layer1.output)\n",
    "layer2.forward(layer1.output)\n",
    "print(layer2.output)"
   ]
  }
 ],
 "metadata": {
  "interpreter": {
   "hash": "b3ba2566441a7c06988d0923437866b63cedc61552a5af99d1f4fb67d367b25f"
  },
  "kernelspec": {
   "display_name": "Python 3.8.8 ('base')",
   "language": "python",
   "name": "python3"
  },
  "language_info": {
   "codemirror_mode": {
    "name": "ipython",
    "version": 3
   },
   "file_extension": ".py",
   "mimetype": "text/x-python",
   "name": "python",
   "nbconvert_exporter": "python",
   "pygments_lexer": "ipython3",
   "version": "3.8.8"
  },
  "orig_nbformat": 4
 },
 "nbformat": 4,
 "nbformat_minor": 2
}
